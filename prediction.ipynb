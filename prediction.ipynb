{
 "cells": [
  {
   "cell_type": "code",
   "id": "initial_id",
   "metadata": {
    "collapsed": true,
    "ExecuteTime": {
     "end_time": "2025-09-02T21:19:56.907611Z",
     "start_time": "2025-09-02T21:19:56.897690Z"
    }
   },
   "source": [
    "import numpy as np\n",
    "import tensorflow as tf\n",
    "from statsmodels.tsa.base import prediction\n",
    "from tensorflow.keras.datasets import imdb\n",
    "from tensorflow.keras.preprocessing import sequence\n",
    "from tensorflow.keras.models import Sequential\n",
    "from tensorflow.keras.layers import Embedding, SimpleRNN, Dense"
   ],
   "outputs": [],
   "execution_count": 10
  },
  {
   "metadata": {
    "ExecuteTime": {
     "end_time": "2025-09-02T21:19:57.083244Z",
     "start_time": "2025-09-02T21:19:56.923039Z"
    }
   },
   "cell_type": "code",
   "source": [
    "word_index = imdb.get_word_index()\n",
    "reverse_word_index ={value:key for key,value in word_index.items()}"
   ],
   "id": "2d2e71ad255679b0",
   "outputs": [],
   "execution_count": 11
  },
  {
   "metadata": {
    "ExecuteTime": {
     "end_time": "2025-09-02T21:19:57.418064Z",
     "start_time": "2025-09-02T21:19:57.108411Z"
    }
   },
   "cell_type": "code",
   "source": [
    "#load the pre-trained model with relu activation\n",
    "from tensorflow.keras.models import load_model\n",
    "model = tf.keras.models.load_model(r"C:\Users\singh\OneDrive\Documents\ann project\ann project\simple_rnn\simple_rnn_imdb.keras")
",
    "model.summary()"
   ],
   "id": "bae3fdcacedbea20",
   "outputs": [
    {
     "data": {
      "text/plain": [
       "\u001B[1mModel: \"sequential_2\"\u001B[0m\n"
      ],
      "text/html": [
       "<pre style=\"white-space:pre;overflow-x:auto;line-height:normal;font-family:Menlo,'DejaVu Sans Mono',consolas,'Courier New',monospace\"><span style=\"font-weight: bold\">Model: \"sequential_2\"</span>\n",
       "</pre>\n"
      ]
     },
     "metadata": {},
     "output_type": "display_data"
    },
    {
     "data": {
      "text/plain": [
       "┏━━━━━━━━━━━━━━━━━━━━━━━━━━━━━━━━━┳━━━━━━━━━━━━━━━━━━━━━━━━┳━━━━━━━━━━━━━━━┓\n",
       "┃\u001B[1m \u001B[0m\u001B[1mLayer (type)                   \u001B[0m\u001B[1m \u001B[0m┃\u001B[1m \u001B[0m\u001B[1mOutput Shape          \u001B[0m\u001B[1m \u001B[0m┃\u001B[1m \u001B[0m\u001B[1m      Param #\u001B[0m\u001B[1m \u001B[0m┃\n",
       "┡━━━━━━━━━━━━━━━━━━━━━━━━━━━━━━━━━╇━━━━━━━━━━━━━━━━━━━━━━━━╇━━━━━━━━━━━━━━━┩\n",
       "│ embedding_1 (\u001B[38;5;33mEmbedding\u001B[0m)         │ (\u001B[38;5;45mNone\u001B[0m, \u001B[38;5;34m500\u001B[0m, \u001B[38;5;34m128\u001B[0m)       │     \u001B[38;5;34m1,280,000\u001B[0m │\n",
       "├─────────────────────────────────┼────────────────────────┼───────────────┤\n",
       "│ simple_rnn (\u001B[38;5;33mSimpleRNN\u001B[0m)          │ (\u001B[38;5;45mNone\u001B[0m, \u001B[38;5;34m128\u001B[0m)            │        \u001B[38;5;34m32,896\u001B[0m │\n",
       "├─────────────────────────────────┼────────────────────────┼───────────────┤\n",
       "│ dense (\u001B[38;5;33mDense\u001B[0m)                   │ (\u001B[38;5;45mNone\u001B[0m, \u001B[38;5;34m1\u001B[0m)              │           \u001B[38;5;34m129\u001B[0m │\n",
       "└─────────────────────────────────┴────────────────────────┴───────────────┘\n"
      ],
      "text/html": [
       "<pre style=\"white-space:pre;overflow-x:auto;line-height:normal;font-family:Menlo,'DejaVu Sans Mono',consolas,'Courier New',monospace\">┏━━━━━━━━━━━━━━━━━━━━━━━━━━━━━━━━━┳━━━━━━━━━━━━━━━━━━━━━━━━┳━━━━━━━━━━━━━━━┓\n",
       "┃<span style=\"font-weight: bold\"> Layer (type)                    </span>┃<span style=\"font-weight: bold\"> Output Shape           </span>┃<span style=\"font-weight: bold\">       Param # </span>┃\n",
       "┡━━━━━━━━━━━━━━━━━━━━━━━━━━━━━━━━━╇━━━━━━━━━━━━━━━━━━━━━━━━╇━━━━━━━━━━━━━━━┩\n",
       "│ embedding_1 (<span style=\"color: #0087ff; text-decoration-color: #0087ff\">Embedding</span>)         │ (<span style=\"color: #00d7ff; text-decoration-color: #00d7ff\">None</span>, <span style=\"color: #00af00; text-decoration-color: #00af00\">500</span>, <span style=\"color: #00af00; text-decoration-color: #00af00\">128</span>)       │     <span style=\"color: #00af00; text-decoration-color: #00af00\">1,280,000</span> │\n",
       "├─────────────────────────────────┼────────────────────────┼───────────────┤\n",
       "│ simple_rnn (<span style=\"color: #0087ff; text-decoration-color: #0087ff\">SimpleRNN</span>)          │ (<span style=\"color: #00d7ff; text-decoration-color: #00d7ff\">None</span>, <span style=\"color: #00af00; text-decoration-color: #00af00\">128</span>)            │        <span style=\"color: #00af00; text-decoration-color: #00af00\">32,896</span> │\n",
       "├─────────────────────────────────┼────────────────────────┼───────────────┤\n",
       "│ dense (<span style=\"color: #0087ff; text-decoration-color: #0087ff\">Dense</span>)                   │ (<span style=\"color: #00d7ff; text-decoration-color: #00d7ff\">None</span>, <span style=\"color: #00af00; text-decoration-color: #00af00\">1</span>)              │           <span style=\"color: #00af00; text-decoration-color: #00af00\">129</span> │\n",
       "└─────────────────────────────────┴────────────────────────┴───────────────┘\n",
       "</pre>\n"
      ]
     },
     "metadata": {},
     "output_type": "display_data"
    },
    {
     "data": {
      "text/plain": [
       "\u001B[1m Total params: \u001B[0m\u001B[38;5;34m3,939,077\u001B[0m (15.03 MB)\n"
      ],
      "text/html": [
       "<pre style=\"white-space:pre;overflow-x:auto;line-height:normal;font-family:Menlo,'DejaVu Sans Mono',consolas,'Courier New',monospace\"><span style=\"font-weight: bold\"> Total params: </span><span style=\"color: #00af00; text-decoration-color: #00af00\">3,939,077</span> (15.03 MB)\n",
       "</pre>\n"
      ]
     },
     "metadata": {},
     "output_type": "display_data"
    },
    {
     "data": {
      "text/plain": [
       "\u001B[1m Trainable params: \u001B[0m\u001B[38;5;34m1,313,025\u001B[0m (5.01 MB)\n"
      ],
      "text/html": [
       "<pre style=\"white-space:pre;overflow-x:auto;line-height:normal;font-family:Menlo,'DejaVu Sans Mono',consolas,'Courier New',monospace\"><span style=\"font-weight: bold\"> Trainable params: </span><span style=\"color: #00af00; text-decoration-color: #00af00\">1,313,025</span> (5.01 MB)\n",
       "</pre>\n"
      ]
     },
     "metadata": {},
     "output_type": "display_data"
    },
    {
     "data": {
      "text/plain": [
       "\u001B[1m Non-trainable params: \u001B[0m\u001B[38;5;34m0\u001B[0m (0.00 B)\n"
      ],
      "text/html": [
       "<pre style=\"white-space:pre;overflow-x:auto;line-height:normal;font-family:Menlo,'DejaVu Sans Mono',consolas,'Courier New',monospace\"><span style=\"font-weight: bold\"> Non-trainable params: </span><span style=\"color: #00af00; text-decoration-color: #00af00\">0</span> (0.00 B)\n",
       "</pre>\n"
      ]
     },
     "metadata": {},
     "output_type": "display_data"
    },
    {
     "data": {
      "text/plain": [
       "\u001B[1m Optimizer params: \u001B[0m\u001B[38;5;34m2,626,052\u001B[0m (10.02 MB)\n"
      ],
      "text/html": [
       "<pre style=\"white-space:pre;overflow-x:auto;line-height:normal;font-family:Menlo,'DejaVu Sans Mono',consolas,'Courier New',monospace\"><span style=\"font-weight: bold\"> Optimizer params: </span><span style=\"color: #00af00; text-decoration-color: #00af00\">2,626,052</span> (10.02 MB)\n",
       "</pre>\n"
      ]
     },
     "metadata": {},
     "output_type": "display_data"
    }
   ],
   "execution_count": 12
  },
  {
   "metadata": {
    "ExecuteTime": {
     "end_time": "2025-09-02T21:19:57.596524Z",
     "start_time": "2025-09-02T21:19:57.568689Z"
    }
   },
   "cell_type": "code",
   "source": "model.get_weights()",
   "id": "6a387eb50cd14a6d",
   "outputs": [
    {
     "data": {
      "text/plain": [
       "[array([[ 0.26049715, -1.3791354 ,  0.75659275, ..., -0.9438239 ,\n",
       "          1.1962181 ,  0.29896405],\n",
       "        [ 0.07283276, -0.11745458,  0.03837623, ..., -0.06947444,\n",
       "          0.21986957,  0.0338215 ],\n",
       "        [-0.02283097, -0.08293556,  0.10585728, ..., -0.28960535,\n",
       "          0.06419131,  0.15503435],\n",
       "        ...,\n",
       "        [ 0.0566216 , -0.08529542, -0.1407753 , ...,  0.01022353,\n",
       "          0.0275361 , -0.07092354],\n",
       "        [-0.10318336,  0.07925953,  0.00441049, ...,  0.11640916,\n",
       "         -0.0580731 , -0.09300385],\n",
       "        [ 0.08086761, -0.0390156 , -0.12264643, ...,  0.03035735,\n",
       "          0.12503912,  0.04934913]], shape=(10000, 128), dtype=float32),\n",
       " array([[-0.05785606, -0.01801558,  0.00121066, ...,  0.0882821 ,\n",
       "         -0.17177752, -0.04458354],\n",
       "        [ 0.1373713 ,  0.19185033,  0.30101725, ...,  0.10003751,\n",
       "          0.02802651, -0.0808965 ],\n",
       "        [ 0.05340259, -0.1691793 , -0.15628086, ..., -0.16006106,\n",
       "         -0.05731598, -0.03705086],\n",
       "        ...,\n",
       "        [ 0.01137422,  0.20401224,  0.09386487, ..., -0.04526068,\n",
       "          0.07792921,  0.01256883],\n",
       "        [-0.04013149, -0.13538346, -0.07500076, ..., -0.10777   ,\n",
       "         -0.10072115,  0.05621392],\n",
       "        [-0.08035971,  0.03427503, -0.09561332, ..., -0.07279567,\n",
       "         -0.05052572, -0.13088588]], shape=(128, 128), dtype=float32),\n",
       " array([[ 0.06252532, -0.00557141,  0.0176911 , ...,  0.03871233,\n",
       "         -0.11128319,  0.18242595],\n",
       "        [ 0.15857501, -0.12792322,  0.0253786 , ..., -0.09706698,\n",
       "          0.07530923, -0.00339657],\n",
       "        [-0.0797318 ,  0.01955204, -0.00772791, ...,  0.0373131 ,\n",
       "         -0.01329765, -0.16204658],\n",
       "        ...,\n",
       "        [ 0.09568946, -0.17004877,  0.05303241, ..., -0.17650759,\n",
       "         -0.03366227, -0.04968492],\n",
       "        [ 0.0544431 , -0.00794402, -0.0134421 , ..., -0.17788728,\n",
       "         -0.07956706, -0.12944825],\n",
       "        [-0.0883542 ,  0.01453243, -0.15615872, ..., -0.06785199,\n",
       "         -0.04210211, -0.03102564]], shape=(128, 128), dtype=float32),\n",
       " array([-2.0004623e-02, -7.7991849e-03, -2.8732051e-03, -6.5263752e-03,\n",
       "         9.8066675e-03, -1.2513044e-02, -2.5534956e-02, -1.2536311e-02,\n",
       "         9.8423776e-04, -7.1450700e-03,  7.7310796e-03, -3.6259636e-02,\n",
       "        -1.4160518e-02, -2.3017669e-02, -3.0648811e-02, -2.9532859e-02,\n",
       "        -2.6272641e-02, -1.0631328e-03, -7.1027619e-03, -2.3375131e-02,\n",
       "         3.0019062e-02, -2.2873150e-02,  1.7679695e-02, -3.5458360e-02,\n",
       "         7.3114727e-03, -2.4385132e-02, -3.9785288e-02, -3.4702267e-02,\n",
       "        -4.8969649e-03, -4.4924557e-02, -2.6099300e-02, -5.0155437e-03,\n",
       "        -4.3217186e-02, -7.4444851e-03, -3.6532208e-02,  3.6525115e-02,\n",
       "        -3.5161491e-02, -2.5362065e-02, -4.2895064e-02, -1.3994266e-02,\n",
       "        -4.1656822e-02,  1.0022447e-02, -4.9681198e-02,  1.7230360e-02,\n",
       "        -3.8738672e-02, -6.6930488e-02,  5.6383996e-03, -1.1259323e-02,\n",
       "        -4.3325875e-02, -4.2238772e-02, -4.9870149e-03, -2.9633499e-03,\n",
       "        -2.6882896e-02,  9.6960971e-03,  5.0657769e-03, -3.4976110e-02,\n",
       "         1.1148277e-03, -4.5232521e-03, -3.5692025e-02, -1.7388195e-02,\n",
       "        -2.2546161e-02,  1.8877950e-02,  2.0949202e-02,  3.1882618e-03,\n",
       "         1.7689403e-02, -1.3688109e-02,  2.5012296e-02,  1.7747590e-02,\n",
       "        -4.3922458e-02, -1.1855251e-03, -2.0178724e-02,  5.5793907e-02,\n",
       "        -3.1625491e-02, -3.1531382e-02,  1.9233642e-02, -2.0366278e-02,\n",
       "        -6.0886960e-03, -6.1397620e-02, -1.0324637e-02, -2.9383652e-02,\n",
       "        -3.3444345e-02, -7.8617878e-02, -2.3820454e-02,  1.1918114e-02,\n",
       "        -4.0234011e-02,  4.7030509e-02,  6.4099491e-02, -2.7364429e-02,\n",
       "         5.3030301e-02,  1.4453096e-02,  1.7469149e-02, -3.4079187e-02,\n",
       "         3.8157930e-03,  3.4915406e-02,  5.9197843e-04, -4.4456795e-02,\n",
       "         1.3622219e-02, -2.7414929e-02, -2.6534401e-02, -4.4713989e-02,\n",
       "         2.5816401e-02, -9.4947452e-03,  5.0548248e-02,  1.2269118e-03,\n",
       "        -1.0930989e-02, -3.6286209e-02,  4.0562814e-03, -3.0709745e-02,\n",
       "         3.8610984e-02, -2.3630270e-04, -7.9561927e-05,  2.0809522e-02,\n",
       "        -3.3065163e-02, -4.3949097e-02, -7.3372512e-03, -2.8892716e-02,\n",
       "         1.4252258e-02, -3.2746300e-02,  3.0369287e-02, -3.5412505e-02,\n",
       "        -1.4381460e-02, -2.4929209e-02, -4.2599019e-02,  3.5013821e-02,\n",
       "         6.0025393e-03, -2.0252565e-02, -2.8900810e-02, -3.9371546e-02],\n",
       "       dtype=float32),\n",
       " array([[-0.14617933],\n",
       "        [-0.3089435 ],\n",
       "        [-0.13294843],\n",
       "        [ 0.12702252],\n",
       "        [ 0.04530246],\n",
       "        [ 0.05850704],\n",
       "        [ 0.17267069],\n",
       "        [-0.11699273],\n",
       "        [ 0.11498032],\n",
       "        [-0.1717711 ],\n",
       "        [ 0.374695  ],\n",
       "        [ 0.11609295],\n",
       "        [-0.23456497],\n",
       "        [ 0.18128198],\n",
       "        [-0.25463793],\n",
       "        [ 0.10330006],\n",
       "        [-0.44950113],\n",
       "        [ 0.17223313],\n",
       "        [-0.0398479 ],\n",
       "        [ 0.17177205],\n",
       "        [ 1.2110852 ],\n",
       "        [-0.1828998 ],\n",
       "        [ 0.20497012],\n",
       "        [ 0.19556396],\n",
       "        [ 0.00840541],\n",
       "        [-0.12145951],\n",
       "        [-0.18616219],\n",
       "        [ 0.10521026],\n",
       "        [-0.08419488],\n",
       "        [ 0.12244315],\n",
       "        [ 0.21211234],\n",
       "        [ 0.01611228],\n",
       "        [-0.12206786],\n",
       "        [-0.20358445],\n",
       "        [-0.3400741 ],\n",
       "        [-0.02319733],\n",
       "        [ 0.33622938],\n",
       "        [-0.08303198],\n",
       "        [ 0.19496645],\n",
       "        [ 0.09858745],\n",
       "        [-0.6665595 ],\n",
       "        [-0.12619975],\n",
       "        [ 0.07779115],\n",
       "        [ 0.00420417],\n",
       "        [ 0.03318494],\n",
       "        [-0.22831516],\n",
       "        [ 0.03030136],\n",
       "        [-0.28416413],\n",
       "        [ 0.13751486],\n",
       "        [ 0.17489079],\n",
       "        [ 0.19488436],\n",
       "        [-0.12542714],\n",
       "        [ 0.05872891],\n",
       "        [ 0.35685915],\n",
       "        [ 0.11933035],\n",
       "        [ 0.09231552],\n",
       "        [-0.0674717 ],\n",
       "        [-0.29017094],\n",
       "        [ 0.26050156],\n",
       "        [-0.2573319 ],\n",
       "        [-0.20716958],\n",
       "        [-0.5192879 ],\n",
       "        [ 0.1585217 ],\n",
       "        [-0.08225004],\n",
       "        [ 0.04974726],\n",
       "        [ 0.08890521],\n",
       "        [-0.03029446],\n",
       "        [-0.12216233],\n",
       "        [ 0.07200118],\n",
       "        [-0.49168903],\n",
       "        [ 0.12917982],\n",
       "        [-0.31771094],\n",
       "        [-0.46834093],\n",
       "        [ 0.1058995 ],\n",
       "        [ 0.22975962],\n",
       "        [-0.19257411],\n",
       "        [ 0.06261573],\n",
       "        [-0.2751666 ],\n",
       "        [ 0.16370597],\n",
       "        [ 0.06725001],\n",
       "        [ 0.70900124],\n",
       "        [-0.07184193],\n",
       "        [ 0.13016868],\n",
       "        [ 0.00862721],\n",
       "        [ 0.25657758],\n",
       "        [ 0.25669432],\n",
       "        [ 0.4523067 ],\n",
       "        [-0.15990728],\n",
       "        [ 0.32322147],\n",
       "        [-0.00827065],\n",
       "        [ 0.0484266 ],\n",
       "        [-0.01960659],\n",
       "        [ 0.14995745],\n",
       "        [ 0.3702303 ],\n",
       "        [ 0.103447  ],\n",
       "        [ 0.17909187],\n",
       "        [-0.00278699],\n",
       "        [-0.2107792 ],\n",
       "        [-0.13965937],\n",
       "        [-0.16844787],\n",
       "        [ 0.22800943],\n",
       "        [-0.176458  ],\n",
       "        [-0.07069269],\n",
       "        [ 0.12130338],\n",
       "        [ 0.2124703 ],\n",
       "        [ 0.17051621],\n",
       "        [-0.04471475],\n",
       "        [-0.11128385],\n",
       "        [ 0.08344311],\n",
       "        [-0.00565966],\n",
       "        [-0.19167937],\n",
       "        [ 0.20379442],\n",
       "        [ 0.09288134],\n",
       "        [-0.05289832],\n",
       "        [-0.02602031],\n",
       "        [ 0.14504544],\n",
       "        [ 0.12179938],\n",
       "        [ 0.06600962],\n",
       "        [ 0.17419837],\n",
       "        [-0.05768859],\n",
       "        [-0.02170684],\n",
       "        [-0.24227855],\n",
       "        [-0.22257438],\n",
       "        [ 0.20598978],\n",
       "        [ 0.23475549],\n",
       "        [-0.3794006 ],\n",
       "        [-0.1340513 ],\n",
       "        [ 0.03200392]], dtype=float32),\n",
       " array([0.09371141], dtype=float32)]"
      ]
     },
     "execution_count": 13,
     "metadata": {},
     "output_type": "execute_result"
    }
   ],
   "execution_count": 13
  },
  {
   "metadata": {
    "ExecuteTime": {
     "end_time": "2025-09-02T21:19:57.643086Z",
     "start_time": "2025-09-02T21:19:57.632553Z"
    }
   },
   "cell_type": "code",
   "source": [
    "# Step 2: Helper Functions\n",
    "# Function to decode reviews\n",
    "def decode_review(encoded_review):\n",
    "    return ' '.join([reverse_word_index.get(i - 3, '?') for i in encoded_review])\n",
    "\n",
    "# Function to preprocess user input\n",
    "def preprocess_text(text):\n",
    "    words = text.lower().split()\n",
    "    encoded_review = [word_index.get(word, 2) + 3 for word in words]\n",
    "    padded_review = sequence.pad_sequences([encoded_review], maxlen=500)\n",
    "    return padded_review"
   ],
   "id": "bd095be5047fe52e",
   "outputs": [],
   "execution_count": 14
  },
  {
   "metadata": {
    "ExecuteTime": {
     "end_time": "2025-09-02T21:19:57.665825Z",
     "start_time": "2025-09-02T21:19:57.658611Z"
    }
   },
   "cell_type": "code",
   "source": [
    "#predictiom ftn\n",
    "def predict_sentiment(review):\n",
    "    preprocessed_input = preprocess_text(review)\n",
    "    prediction = model.predict(preprocessed_input)\n",
    "    sentiment ='Positive' if prediction[0][0] > 0.5 else 'Negative'\n",
    "    return sentiment,prediction[0][0]"
   ],
   "id": "62aef164946a080e",
   "outputs": [],
   "execution_count": 15
  },
  {
   "metadata": {
    "ExecuteTime": {
     "end_time": "2025-09-02T21:22:26.289641Z",
     "start_time": "2025-09-02T21:22:26.103446Z"
    }
   },
   "cell_type": "code",
   "source": [
    "# Step 4: User Input and Prediction\n",
    "# Example review for prediction\n",
    "example_review =\"This was an absolute disaster of a film. The plot made no sense, the acting was painfully wooden, and the dialogue felt like it was written by a bored teenager. I kept waiting for it to get better, but it only got worse. A complete waste of time and money.\"\n",
    "#example_review = \"This movie was fantastic! The acting was great and the plot was thrilling.\"\n",
    "\n",
    "sentiment, score = predict_sentiment(example_review)\n",
    "\n",
    "print(f'Review: {example_review}')\n",
    "print(f'Sentiment: {sentiment}')\n",
    "print(f'Prediction Score: {score}')\n"
   ],
   "id": "b6682b895e656ffb",
   "outputs": [
    {
     "name": "stdout",
     "output_type": "stream",
     "text": [
      "\u001B[1m1/1\u001B[0m \u001B[32m━━━━━━━━━━━━━━━━━━━━\u001B[0m\u001B[37m\u001B[0m \u001B[1m0s\u001B[0m 87ms/step\n",
      "Review: This was an absolute disaster of a film. The plot made no sense, the acting was painfully wooden, and the dialogue felt like it was written by a bored teenager. I kept waiting for it to get better, but it only got worse. A complete waste of time and money.\n",
      "Sentiment: Negative\n",
      "Prediction Score: 0.10943245142698288\n"
     ]
    }
   ],
   "execution_count": 17
  }
 ],
 "metadata": {
  "kernelspec": {
   "display_name": "Python 3",
   "language": "python",
   "name": "python3"
  },
  "language_info": {
   "codemirror_mode": {
    "name": "ipython",
    "version": 2
   },
   "file_extension": ".py",
   "mimetype": "text/x-python",
   "name": "python",
   "nbconvert_exporter": "python",
   "pygments_lexer": "ipython2",
   "version": "2.7.6"
  }
 },
 "nbformat": 4,
 "nbformat_minor": 5
}
